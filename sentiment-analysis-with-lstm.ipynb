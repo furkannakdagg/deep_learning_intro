{
 "cells": [
  {
   "cell_type": "markdown",
   "id": "8337468e",
   "metadata": {
    "id": "VYmYuGSWFs3-",
    "papermill": {
     "duration": 0.008926,
     "end_time": "2022-10-03T15:52:40.386669",
     "exception": false,
     "start_time": "2022-10-03T15:52:40.377743",
     "status": "completed"
    },
    "tags": []
   },
   "source": [
    "# Building a Recurrent Neural Network\n",
    "\n",
    "## Sentiment Analysis\n",
    "In this project, we will build a Long Short-term Memory (LSTM) neural network to solve a binary sentiment analysis problem.\n",
    "\n",
    "For this, we'll use the “IMDB Movie Review Dataset\" available on Keras. It includes 50000 highly polarized movie reviews categorized as positive or negative."
   ]
  },
  {
   "cell_type": "markdown",
   "id": "4701c632",
   "metadata": {
    "id": "jQQ7xy4lzfsw",
    "papermill": {
     "duration": 0.007311,
     "end_time": "2022-10-03T15:52:40.401541",
     "exception": false,
     "start_time": "2022-10-03T15:52:40.394230",
     "status": "completed"
    },
    "tags": []
   },
   "source": [
    "## 1. Importing the required libraries\n",
    "We'll start with importing required libraries.\n",
    "\n",
    "📌 Use the keyword \"import\"."
   ]
  },
  {
   "cell_type": "code",
   "execution_count": 1,
   "id": "e1422e95",
   "metadata": {
    "execution": {
     "iopub.execute_input": "2022-10-03T15:52:40.418156Z",
     "iopub.status.busy": "2022-10-03T15:52:40.417417Z",
     "iopub.status.idle": "2022-10-03T15:52:44.880758Z",
     "shell.execute_reply": "2022-10-03T15:52:44.879754Z"
    },
    "id": "b__mue-XGPZ9",
    "papermill": {
     "duration": 4.474451,
     "end_time": "2022-10-03T15:52:44.883224",
     "exception": false,
     "start_time": "2022-10-03T15:52:40.408773",
     "status": "completed"
    },
    "tags": []
   },
   "outputs": [],
   "source": [
    "# Import TensorFlow\n",
    "import tensorflow as tf\n",
    "\n",
    "# Import NumPy and Matplotlib\n",
    "import numpy as np\n",
    "import matplotlib.pyplot as plt"
   ]
  },
  {
   "cell_type": "markdown",
   "id": "04003897",
   "metadata": {
    "id": "u0b5YzGHP3qs",
    "papermill": {
     "duration": 0.008003,
     "end_time": "2022-10-03T15:52:44.900668",
     "exception": false,
     "start_time": "2022-10-03T15:52:44.892665",
     "status": "completed"
    },
    "tags": []
   },
   "source": [
    "## Dataset\n",
    "Let's download the IMDB dataset which is included in Keras, and assign it to the corresponding variables *X_train*, *y_train*, *X_test*, and *y_test*. We want to include the most frequently used 10000 words, so we specify 10000 for the num_words parameter.\n",
    "\n",
    "📌 Use the datasets.imdb.load_data() function of the Keras."
   ]
  },
  {
   "cell_type": "code",
   "execution_count": 2,
   "id": "9072bc51",
   "metadata": {
    "execution": {
     "iopub.execute_input": "2022-10-03T15:52:44.916799Z",
     "iopub.status.busy": "2022-10-03T15:52:44.916311Z",
     "iopub.status.idle": "2022-10-03T15:52:50.494211Z",
     "shell.execute_reply": "2022-10-03T15:52:50.493205Z"
    },
    "id": "1WLgLQxGGDz8",
    "outputId": "12570624-d913-47c6-b7c1-73ff36833cc4",
    "papermill": {
     "duration": 5.588826,
     "end_time": "2022-10-03T15:52:50.496811",
     "exception": false,
     "start_time": "2022-10-03T15:52:44.907985",
     "status": "completed"
    },
    "tags": []
   },
   "outputs": [
    {
     "name": "stdout",
     "output_type": "stream",
     "text": [
      "Downloading data from https://storage.googleapis.com/tensorflow/tf-keras-datasets/imdb.npz\n",
      "17465344/17464789 [==============================] - 0s 0us/step\n",
      "17473536/17464789 [==============================] - 0s 0us/step\n"
     ]
    }
   ],
   "source": [
    "# Download the IMDB dataset included in Keras\n",
    "# Set the parameter num_words to 10000\n",
    "(X_train, y_train), (X_test, y_test) = tf.keras.datasets.imdb.load_data(num_words=10000)"
   ]
  },
  {
   "cell_type": "markdown",
   "id": "05a4da5b",
   "metadata": {
    "id": "AUPnNCgC0mHm",
    "papermill": {
     "duration": 0.008292,
     "end_time": "2022-10-03T15:52:50.521573",
     "exception": false,
     "start_time": "2022-10-03T15:52:50.513281",
     "status": "completed"
    },
    "tags": []
   },
   "source": [
    "Before we move on, we can print a single sample to see what the data looks like.\n",
    "\n",
    "📌 Use the print() function for this."
   ]
  },
  {
   "cell_type": "code",
   "execution_count": 3,
   "id": "648852a7",
   "metadata": {
    "execution": {
     "iopub.execute_input": "2022-10-03T15:52:50.538401Z",
     "iopub.status.busy": "2022-10-03T15:52:50.538037Z",
     "iopub.status.idle": "2022-10-03T15:52:50.542973Z",
     "shell.execute_reply": "2022-10-03T15:52:50.542019Z"
    },
    "id": "1spB5eY9xh-B",
    "outputId": "473e4563-ce4e-4ad2-a354-eaa475a592bb",
    "papermill": {
     "duration": 0.016281,
     "end_time": "2022-10-03T15:52:50.545705",
     "exception": false,
     "start_time": "2022-10-03T15:52:50.529424",
     "status": "completed"
    },
    "tags": []
   },
   "outputs": [
    {
     "name": "stdout",
     "output_type": "stream",
     "text": [
      "[1, 14, 22, 16, 43, 530, 973, 1622, 1385, 65, 458, 4468, 66, 3941, 4, 173, 36, 256, 5, 25, 100, 43, 838, 112, 50, 670, 2, 9, 35, 480, 284, 5, 150, 4, 172, 112, 167, 2, 336, 385, 39, 4, 172, 4536, 1111, 17, 546, 38, 13, 447, 4, 192, 50, 16, 6, 147, 2025, 19, 14, 22, 4, 1920, 4613, 469, 4, 22, 71, 87, 12, 16, 43, 530, 38, 76, 15, 13, 1247, 4, 22, 17, 515, 17, 12, 16, 626, 18, 2, 5, 62, 386, 12, 8, 316, 8, 106, 5, 4, 2223, 5244, 16, 480, 66, 3785, 33, 4, 130, 12, 16, 38, 619, 5, 25, 124, 51, 36, 135, 48, 25, 1415, 33, 6, 22, 12, 215, 28, 77, 52, 5, 14, 407, 16, 82, 2, 8, 4, 107, 117, 5952, 15, 256, 4, 2, 7, 3766, 5, 723, 36, 71, 43, 530, 476, 26, 400, 317, 46, 7, 4, 2, 1029, 13, 104, 88, 4, 381, 15, 297, 98, 32, 2071, 56, 26, 141, 6, 194, 7486, 18, 4, 226, 22, 21, 134, 476, 26, 480, 5, 144, 30, 5535, 18, 51, 36, 28, 224, 92, 25, 104, 4, 226, 65, 16, 38, 1334, 88, 12, 16, 283, 5, 16, 4472, 113, 103, 32, 15, 16, 5345, 19, 178, 32]\n"
     ]
    }
   ],
   "source": [
    "# Print a sample\n",
    "print(X_train[0])  # her bir kelime matematiksel bir ifadeye atanmış => good=49, bad=75 gibi"
   ]
  },
  {
   "cell_type": "markdown",
   "id": "5d4be214",
   "metadata": {
    "id": "VKkhznIa8hIw",
    "papermill": {
     "duration": 0.007903,
     "end_time": "2022-10-03T15:52:50.561272",
     "exception": false,
     "start_time": "2022-10-03T15:52:50.553369",
     "status": "completed"
    },
    "tags": []
   },
   "source": [
    "Then, we print the the number of samples in the X_train and X_test datasets to see how the dataset is distributed.\n",
    "\n",
    "📌 Use f-strings for this."
   ]
  },
  {
   "cell_type": "code",
   "execution_count": 4,
   "id": "ef4e783c",
   "metadata": {
    "execution": {
     "iopub.execute_input": "2022-10-03T15:52:50.577542Z",
     "iopub.status.busy": "2022-10-03T15:52:50.577267Z",
     "iopub.status.idle": "2022-10-03T15:52:50.581988Z",
     "shell.execute_reply": "2022-10-03T15:52:50.581076Z"
    },
    "id": "skzb2oTCdV-c",
    "outputId": "08cac1f5-1387-4f88-b94e-6c9d40063180",
    "papermill": {
     "duration": 0.015996,
     "end_time": "2022-10-03T15:52:50.584855",
     "exception": false,
     "start_time": "2022-10-03T15:52:50.568859",
     "status": "completed"
    },
    "tags": []
   },
   "outputs": [
    {
     "name": "stdout",
     "output_type": "stream",
     "text": [
      "X_train: 25000\n",
      "X_test: 25000\n"
     ]
    }
   ],
   "source": [
    "# Print the number of samples\n",
    "print(f\"X_train: {len(X_train)}\")\n",
    "print(f\"X_test: {len(X_test)}\")"
   ]
  },
  {
   "cell_type": "markdown",
   "id": "3a48b980",
   "metadata": {
    "id": "lF6kV-EsP5vS",
    "papermill": {
     "duration": 0.007446,
     "end_time": "2022-10-03T15:52:50.600768",
     "exception": false,
     "start_time": "2022-10-03T15:52:50.593322",
     "status": "completed"
    },
    "tags": []
   },
   "source": [
    "# 2. Preprocessing\n",
    "### Concatenate\n",
    "\n",
    "To split the dataset with 80-10-10 ratio, we'll first concatenate train and test datasets to create one big dataset.\n",
    "\n",
    "📌 Use contenate() function of the NumPy library for this."
   ]
  },
  {
   "cell_type": "code",
   "execution_count": 5,
   "id": "9b30717f",
   "metadata": {
    "execution": {
     "iopub.execute_input": "2022-10-03T15:52:50.617343Z",
     "iopub.status.busy": "2022-10-03T15:52:50.617064Z",
     "iopub.status.idle": "2022-10-03T15:52:50.622324Z",
     "shell.execute_reply": "2022-10-03T15:52:50.621482Z"
    },
    "id": "Whj2C-SlKv2E",
    "papermill": {
     "duration": 0.015779,
     "end_time": "2022-10-03T15:52:50.624221",
     "exception": false,
     "start_time": "2022-10-03T15:52:50.608442",
     "status": "completed"
    },
    "tags": []
   },
   "outputs": [],
   "source": [
    "# Concatenate X_train and X_test and assing it to a variable X\n",
    "X = np.concatenate((X_train, X_test), axis=0)\n",
    "\n",
    "# Concatenate y_train and y_test and assing it to a variable y\n",
    "y = np.concatenate((y_train, y_test), axis=0)"
   ]
  },
  {
   "cell_type": "markdown",
   "id": "f40eb3cb",
   "metadata": {
    "id": "ZObXVorUxoGK",
    "papermill": {
     "duration": 0.00747,
     "end_time": "2022-10-03T15:52:50.639425",
     "exception": false,
     "start_time": "2022-10-03T15:52:50.631955",
     "status": "completed"
    },
    "tags": []
   },
   "source": [
    "### Padding\n",
    "\n",
    "Since all reviews are at different lengths, we'll use padding to make all of them same length.\n",
    "\n",
    "📌 Use preprocessing.sequence.pad_sequences() function for this.\n",
    "\n",
    "Since the length of each word is different, we add 0 to the nulls. We set the max length to be 1024. Those shorter than 1024 will be added 0, long ones will be trimmed.\n",
    "\n",
    "**NOTE:** maxlen affects the processing time, which can be taken into account in hyperparameter optimization."
   ]
  },
  {
   "cell_type": "code",
   "execution_count": 6,
   "id": "40c0e44c",
   "metadata": {
    "execution": {
     "iopub.execute_input": "2022-10-03T15:52:50.656516Z",
     "iopub.status.busy": "2022-10-03T15:52:50.655657Z",
     "iopub.status.idle": "2022-10-03T15:52:51.302059Z",
     "shell.execute_reply": "2022-10-03T15:52:51.301066Z"
    },
    "id": "T8mlvy8xKu7-",
    "papermill": {
     "duration": 0.657499,
     "end_time": "2022-10-03T15:52:51.304572",
     "exception": false,
     "start_time": "2022-10-03T15:52:50.647073",
     "status": "completed"
    },
    "tags": []
   },
   "outputs": [],
   "source": [
    "# Pad all reviews in the X dataset to the length maxlen=1024\n",
    "X = tf.keras.preprocessing.sequence.pad_sequences(X, maxlen=1024)"
   ]
  },
  {
   "cell_type": "markdown",
   "id": "3321e02e",
   "metadata": {
    "id": "2rZILMK5_-e4",
    "papermill": {
     "duration": 0.007592,
     "end_time": "2022-10-03T15:52:51.320406",
     "exception": false,
     "start_time": "2022-10-03T15:52:51.312814",
     "status": "completed"
    },
    "tags": []
   },
   "source": [
    "### Splitting\n",
    "\n",
    "Now, split X and y into train, validation and test dataset and assign those to corresponding values.\n",
    "\n",
    "📌 You can use list slicing methods for this.\n",
    "\n",
    "📌 For this dataset, a 80-10-10 split corresponds to 40000 - 10000 - 10000 number of samples relatively.\n"
   ]
  },
  {
   "cell_type": "code",
   "execution_count": 7,
   "id": "6d6fdd2f",
   "metadata": {
    "execution": {
     "iopub.execute_input": "2022-10-03T15:52:51.336919Z",
     "iopub.status.busy": "2022-10-03T15:52:51.336613Z",
     "iopub.status.idle": "2022-10-03T15:52:51.462852Z",
     "shell.execute_reply": "2022-10-03T15:52:51.461979Z"
    },
    "id": "Ru_A80XWPr05",
    "papermill": {
     "duration": 0.136787,
     "end_time": "2022-10-03T15:52:51.464846",
     "exception": false,
     "start_time": "2022-10-03T15:52:51.328059",
     "status": "completed"
    },
    "tags": []
   },
   "outputs": [],
   "source": [
    "# Create the training datasets\n",
    "X_train = X[:40000]\n",
    "y_train = y[:40000]\n",
    "\n",
    "# Create the validation datasets\n",
    "X_val = X[40000:45000]\n",
    "y_val = y[40000:45000]\n",
    "\n",
    "# Create the test datasets\n",
    "X_test = X[45000:50000]\n",
    "y_test = y[45000:50000]"
   ]
  },
  {
   "cell_type": "markdown",
   "id": "557b124c",
   "metadata": {
    "id": "E4t0TWEuCs6q",
    "papermill": {
     "duration": 0.007775,
     "end_time": "2022-10-03T15:52:51.480527",
     "exception": false,
     "start_time": "2022-10-03T15:52:51.472752",
     "status": "completed"
    },
    "tags": []
   },
   "source": [
    "To check if that worked out, print the number of samples in each dataset again.\n",
    "\n",
    "📌 Use f-strings for this."
   ]
  },
  {
   "cell_type": "code",
   "execution_count": 8,
   "id": "8ce580e4",
   "metadata": {
    "execution": {
     "iopub.execute_input": "2022-10-03T15:52:51.498020Z",
     "iopub.status.busy": "2022-10-03T15:52:51.496615Z",
     "iopub.status.idle": "2022-10-03T15:52:51.504289Z",
     "shell.execute_reply": "2022-10-03T15:52:51.503418Z"
    },
    "id": "yhRLn4stTA4d",
    "outputId": "f3b98d2d-ca9d-4ec0-b65b-569a7c28394e",
    "papermill": {
     "duration": 0.017994,
     "end_time": "2022-10-03T15:52:51.506145",
     "exception": false,
     "start_time": "2022-10-03T15:52:51.488151",
     "status": "completed"
    },
    "tags": []
   },
   "outputs": [
    {
     "name": "stdout",
     "output_type": "stream",
     "text": [
      "X_train: 40000\n",
      "y_train: 40000\n",
      "X_val: 5000\n",
      "y_val: 5000\n",
      "X_test: 5000\n",
      "y_test: 5000\n"
     ]
    }
   ],
   "source": [
    "# Print the number of samples\n",
    "print(f\"X_train: {len(X_train)}\")\n",
    "print(f\"y_train: {len(y_train)}\")\n",
    "print(f\"X_val: {len(X_val)}\")\n",
    "print(f\"y_val: {len(y_val)}\")\n",
    "print(f\"X_test: {len(X_test)}\")\n",
    "print(f\"y_test: {len(y_test)}\")"
   ]
  },
  {
   "cell_type": "markdown",
   "id": "94caa936",
   "metadata": {
    "id": "ZDCMa-o8ESLy",
    "papermill": {
     "duration": 0.007664,
     "end_time": "2022-10-03T15:52:51.521598",
     "exception": false,
     "start_time": "2022-10-03T15:52:51.513934",
     "status": "completed"
    },
    "tags": []
   },
   "source": [
    "## 3. Constructing the Neural Network\n",
    "\n",
    "That was it for the preprocessing of the data! \n",
    "\n",
    "Now we can create our model. First, we start by creating a model object using the Sequential API of Keras.\n",
    "\n",
    "📌 Use tf.keras.Sequential() to create a model object"
   ]
  },
  {
   "cell_type": "code",
   "execution_count": 9,
   "id": "afefa1b1",
   "metadata": {
    "execution": {
     "iopub.execute_input": "2022-10-03T15:52:51.538365Z",
     "iopub.status.busy": "2022-10-03T15:52:51.537682Z",
     "iopub.status.idle": "2022-10-03T15:52:54.214840Z",
     "shell.execute_reply": "2022-10-03T15:52:54.213862Z"
    },
    "id": "-lodLU07jdzm",
    "papermill": {
     "duration": 2.688028,
     "end_time": "2022-10-03T15:52:54.217330",
     "exception": false,
     "start_time": "2022-10-03T15:52:51.529302",
     "status": "completed"
    },
    "tags": []
   },
   "outputs": [
    {
     "name": "stderr",
     "output_type": "stream",
     "text": [
      "2022-10-03 15:52:51.626270: I tensorflow/stream_executor/cuda/cuda_gpu_executor.cc:937] successful NUMA node read from SysFS had negative value (-1), but there must be at least one NUMA node, so returning NUMA node zero\n",
      "2022-10-03 15:52:51.722382: I tensorflow/stream_executor/cuda/cuda_gpu_executor.cc:937] successful NUMA node read from SysFS had negative value (-1), but there must be at least one NUMA node, so returning NUMA node zero\n",
      "2022-10-03 15:52:51.723243: I tensorflow/stream_executor/cuda/cuda_gpu_executor.cc:937] successful NUMA node read from SysFS had negative value (-1), but there must be at least one NUMA node, so returning NUMA node zero\n",
      "2022-10-03 15:52:51.724738: I tensorflow/core/platform/cpu_feature_guard.cc:142] This TensorFlow binary is optimized with oneAPI Deep Neural Network Library (oneDNN) to use the following CPU instructions in performance-critical operations:  AVX2 AVX512F FMA\n",
      "To enable them in other operations, rebuild TensorFlow with the appropriate compiler flags.\n",
      "2022-10-03 15:52:51.725027: I tensorflow/stream_executor/cuda/cuda_gpu_executor.cc:937] successful NUMA node read from SysFS had negative value (-1), but there must be at least one NUMA node, so returning NUMA node zero\n",
      "2022-10-03 15:52:51.725775: I tensorflow/stream_executor/cuda/cuda_gpu_executor.cc:937] successful NUMA node read from SysFS had negative value (-1), but there must be at least one NUMA node, so returning NUMA node zero\n",
      "2022-10-03 15:52:51.726454: I tensorflow/stream_executor/cuda/cuda_gpu_executor.cc:937] successful NUMA node read from SysFS had negative value (-1), but there must be at least one NUMA node, so returning NUMA node zero\n",
      "2022-10-03 15:52:53.842791: I tensorflow/stream_executor/cuda/cuda_gpu_executor.cc:937] successful NUMA node read from SysFS had negative value (-1), but there must be at least one NUMA node, so returning NUMA node zero\n",
      "2022-10-03 15:52:53.843635: I tensorflow/stream_executor/cuda/cuda_gpu_executor.cc:937] successful NUMA node read from SysFS had negative value (-1), but there must be at least one NUMA node, so returning NUMA node zero\n",
      "2022-10-03 15:52:53.844325: I tensorflow/stream_executor/cuda/cuda_gpu_executor.cc:937] successful NUMA node read from SysFS had negative value (-1), but there must be at least one NUMA node, so returning NUMA node zero\n",
      "2022-10-03 15:52:53.844917: I tensorflow/core/common_runtime/gpu/gpu_device.cc:1510] Created device /job:localhost/replica:0/task:0/device:GPU:0 with 15401 MB memory:  -> device: 0, name: Tesla P100-PCIE-16GB, pci bus id: 0000:00:04.0, compute capability: 6.0\n"
     ]
    }
   ],
   "source": [
    "model = tf.keras.Sequential()"
   ]
  },
  {
   "cell_type": "markdown",
   "id": "88a7a83c",
   "metadata": {
    "id": "-lh7_MzgFhIf",
    "papermill": {
     "duration": 0.007777,
     "end_time": "2022-10-03T15:52:54.233594",
     "exception": false,
     "start_time": "2022-10-03T15:52:54.225817",
     "status": "completed"
    },
    "tags": []
   },
   "source": [
    "### Embedding Layer\n",
    "\n",
    "For the first layer, we add an embedding layer.\n",
    "\n",
    "📌 Use tf.keras.layers.Embedding() for the embedding layer.\n",
    "\n",
    "📌 Use .add() method of the object to add the layer.\n",
    "\n",
    "<ins>Word Embedding:</ins> It serves to represent words numerically. It allows us to display words as vectors in vector space."
   ]
  },
  {
   "cell_type": "code",
   "execution_count": 10,
   "id": "3c517b34",
   "metadata": {
    "execution": {
     "iopub.execute_input": "2022-10-03T15:52:54.251287Z",
     "iopub.status.busy": "2022-10-03T15:52:54.250380Z",
     "iopub.status.idle": "2022-10-03T15:52:54.290214Z",
     "shell.execute_reply": "2022-10-03T15:52:54.289361Z"
    },
    "id": "41CLMa1Epasa",
    "papermill": {
     "duration": 0.050787,
     "end_time": "2022-10-03T15:52:54.292397",
     "exception": false,
     "start_time": "2022-10-03T15:52:54.241610",
     "status": "completed"
    },
    "tags": []
   },
   "outputs": [],
   "source": [
    "# Add an embedding layer and a dropout\n",
    "model.add(tf.keras.layers.Embedding(input_dim=10000, output_dim=256))\n",
    "model.add(tf.keras.layers.Dropout(0.7))"
   ]
  },
  {
   "cell_type": "markdown",
   "id": "5cac93db",
   "metadata": {
    "id": "YpeVhPpEG3u9",
    "papermill": {
     "duration": 0.007842,
     "end_time": "2022-10-03T15:52:54.308248",
     "exception": false,
     "start_time": "2022-10-03T15:52:54.300406",
     "status": "completed"
    },
    "tags": []
   },
   "source": [
    "Then, we add a LSTM layer and a dense layer; each with a dropout.\n",
    "\n",
    "📌 Use tf.keras.layers.LSTM() and tf.keras.layers.Dense() to create the layers.\n",
    "\n",
    "📌 Use .add() method of the object to add the layer."
   ]
  },
  {
   "cell_type": "code",
   "execution_count": 11,
   "id": "d4e5cbcb",
   "metadata": {
    "execution": {
     "iopub.execute_input": "2022-10-03T15:52:54.325864Z",
     "iopub.status.busy": "2022-10-03T15:52:54.325068Z",
     "iopub.status.idle": "2022-10-03T15:52:54.756354Z",
     "shell.execute_reply": "2022-10-03T15:52:54.755359Z"
    },
    "id": "ntaW1KWrpngU",
    "papermill": {
     "duration": 0.442257,
     "end_time": "2022-10-03T15:52:54.758694",
     "exception": false,
     "start_time": "2022-10-03T15:52:54.316437",
     "status": "completed"
    },
    "tags": []
   },
   "outputs": [],
   "source": [
    "# Add a LSTM layer with dropout\n",
    "model.add(tf.keras.layers.LSTM(256))\n",
    "model.add(tf.keras.layers.Dropout(0.7))  # dropout for LSTM Layer\n",
    "\n",
    "# Add a Dense layer with dropout\n",
    "model.add(tf.keras.layers.Dense(128, activation=\"relu\"))\n",
    "model.add(tf.keras.layers.Dropout(0.7))"
   ]
  },
  {
   "cell_type": "markdown",
   "id": "269bc361",
   "metadata": {
    "id": "lTWRJxTGHhaI",
    "papermill": {
     "duration": 0.012235,
     "end_time": "2022-10-03T15:52:54.783638",
     "exception": false,
     "start_time": "2022-10-03T15:52:54.771403",
     "status": "completed"
    },
    "tags": []
   },
   "source": [
    "### Output layer\n",
    "\n",
    "As the last part of our neural network, we add the output layer. The number of nodes will be one since we are making binary classification. We'll use the sigmoid activation function in the output layer.\n",
    "\n",
    "📌 Use tf.keras.layers.Dense() to create the layer.\n",
    "\n",
    "📌 Use .add() method of the object to add the layer."
   ]
  },
  {
   "cell_type": "code",
   "execution_count": 12,
   "id": "188cb579",
   "metadata": {
    "execution": {
     "iopub.execute_input": "2022-10-03T15:52:54.809357Z",
     "iopub.status.busy": "2022-10-03T15:52:54.809045Z",
     "iopub.status.idle": "2022-10-03T15:52:54.821923Z",
     "shell.execute_reply": "2022-10-03T15:52:54.821105Z"
    },
    "id": "1ufBdJmBs_T-",
    "papermill": {
     "duration": 0.028026,
     "end_time": "2022-10-03T15:52:54.824086",
     "exception": false,
     "start_time": "2022-10-03T15:52:54.796060",
     "status": "completed"
    },
    "tags": []
   },
   "outputs": [],
   "source": [
    "# Add the output layer\n",
    "# In output layer number of nodes=number of classes => Since we are doing binary classification, there will be 1 node\n",
    "# The output will be 0 or 1 with sigmoid\n",
    "model.add(tf.keras.layers.Dense(1, activation=\"sigmoid\"))"
   ]
  },
  {
   "cell_type": "markdown",
   "id": "07026baa",
   "metadata": {
    "id": "x7EI9LX1I522",
    "papermill": {
     "duration": 0.011124,
     "end_time": "2022-10-03T15:52:54.846720",
     "exception": false,
     "start_time": "2022-10-03T15:52:54.835596",
     "status": "completed"
    },
    "tags": []
   },
   "source": [
    "### Optimizer\n",
    "\n",
    "Now we have the structure of our model. To configure the model for training, we'll use the *.compile()* method. Inside the compile method, we have to define the following:\n",
    "*   \"Adam\" for optimizer\n",
    "*   \"Binary Crossentropy\" for the loss function\n",
    "\n",
    "\n",
    "📌 Construct the model with the .compile() method."
   ]
  },
  {
   "cell_type": "code",
   "execution_count": 13,
   "id": "da80adb9",
   "metadata": {
    "execution": {
     "iopub.execute_input": "2022-10-03T15:52:54.872339Z",
     "iopub.status.busy": "2022-10-03T15:52:54.872060Z",
     "iopub.status.idle": "2022-10-03T15:52:54.886134Z",
     "shell.execute_reply": "2022-10-03T15:52:54.885245Z"
    },
    "id": "bkDRiJNW_Dbu",
    "papermill": {
     "duration": 0.029883,
     "end_time": "2022-10-03T15:52:54.889021",
     "exception": false,
     "start_time": "2022-10-03T15:52:54.859138",
     "status": "completed"
    },
    "tags": []
   },
   "outputs": [],
   "source": [
    "model.compile(optimizer=\"adam\", loss=\"binary_crossentropy\", metrics=[\"accuracy\"])"
   ]
  },
  {
   "cell_type": "markdown",
   "id": "4cfa94f6",
   "metadata": {
    "id": "vpcO1HLZJZtZ",
    "papermill": {
     "duration": 0.012336,
     "end_time": "2022-10-03T15:52:54.918825",
     "exception": false,
     "start_time": "2022-10-03T15:52:54.906489",
     "status": "completed"
    },
    "tags": []
   },
   "source": [
    "## 4. Training the model\n",
    "\n",
    "It's time to train the model. We'll give the X_train and y_train datasets as the first two arguments. These will be used for training. And with the *validation_data* parameter, we'll give the X_val and y_val as a tuple.\n",
    "\n",
    "📌 Use .fit() method of the model object for the training."
   ]
  },
  {
   "cell_type": "code",
   "execution_count": 14,
   "id": "a2edb312",
   "metadata": {
    "execution": {
     "iopub.execute_input": "2022-10-03T15:52:54.935687Z",
     "iopub.status.busy": "2022-10-03T15:52:54.935420Z",
     "iopub.status.idle": "2022-10-03T16:01:38.847328Z",
     "shell.execute_reply": "2022-10-03T16:01:38.846373Z"
    },
    "id": "PoTfLMTt4RQ1",
    "outputId": "6b3b4023-bc1f-4d51-f7ed-5fc6144a8545",
    "papermill": {
     "duration": 523.922786,
     "end_time": "2022-10-03T16:01:38.849529",
     "exception": false,
     "start_time": "2022-10-03T15:52:54.926743",
     "status": "completed"
    },
    "tags": []
   },
   "outputs": [
    {
     "name": "stderr",
     "output_type": "stream",
     "text": [
      "2022-10-03 15:52:55.109165: I tensorflow/compiler/mlir/mlir_graph_optimization_pass.cc:185] None of the MLIR Optimization Passes are enabled (registered 2)\n"
     ]
    },
    {
     "name": "stdout",
     "output_type": "stream",
     "text": [
      "Epoch 1/5\n"
     ]
    },
    {
     "name": "stderr",
     "output_type": "stream",
     "text": [
      "2022-10-03 15:52:57.310428: I tensorflow/stream_executor/cuda/cuda_dnn.cc:369] Loaded cuDNN version 8005\n"
     ]
    },
    {
     "name": "stdout",
     "output_type": "stream",
     "text": [
      "1250/1250 [==============================] - 107s 82ms/step - loss: 0.4804 - accuracy: 0.7698 - val_loss: 0.3430 - val_accuracy: 0.8614\n",
      "Epoch 2/5\n",
      "1250/1250 [==============================] - 103s 83ms/step - loss: 0.3660 - accuracy: 0.8579 - val_loss: 0.3438 - val_accuracy: 0.8648\n",
      "Epoch 3/5\n",
      "1250/1250 [==============================] - 105s 84ms/step - loss: 0.4278 - accuracy: 0.8126 - val_loss: 0.3870 - val_accuracy: 0.8484\n",
      "Epoch 4/5\n",
      "1250/1250 [==============================] - 105s 84ms/step - loss: 0.3297 - accuracy: 0.8636 - val_loss: 0.2485 - val_accuracy: 0.8946\n",
      "Epoch 5/5\n",
      "1250/1250 [==============================] - 104s 83ms/step - loss: 0.2139 - accuracy: 0.9227 - val_loss: 0.2321 - val_accuracy: 0.9044\n"
     ]
    }
   ],
   "source": [
    "# Train the model for 5 epochs\n",
    "results = model.fit(X_train, y_train, epochs=5, validation_data=(X_val, y_val))"
   ]
  },
  {
   "cell_type": "markdown",
   "id": "759a1a15",
   "metadata": {
    "id": "OEx98AYLJwhl",
    "papermill": {
     "duration": 0.328708,
     "end_time": "2022-10-03T16:01:39.511184",
     "exception": false,
     "start_time": "2022-10-03T16:01:39.182476",
     "status": "completed"
    },
    "tags": []
   },
   "source": [
    "### Visualize the results\n",
    "\n",
    "After the model is trained, we can create a graph to visualize the change of loss over time. Results are held in:\n",
    "* results.history[\"loss\"]\n",
    "* results.history[\"val_loss\"]\n",
    "\n",
    "📌 Use plt.show() to display the graph."
   ]
  },
  {
   "cell_type": "code",
   "execution_count": 15,
   "id": "325fb723",
   "metadata": {
    "execution": {
     "iopub.execute_input": "2022-10-03T16:01:40.213574Z",
     "iopub.status.busy": "2022-10-03T16:01:40.213220Z",
     "iopub.status.idle": "2022-10-03T16:01:40.437023Z",
     "shell.execute_reply": "2022-10-03T16:01:40.436097Z"
    },
    "id": "oDw7KpHct81z",
    "outputId": "2d7a1cb8-c5dd-41d5-8eb7-14d8b94ee85f",
    "papermill": {
     "duration": 0.597698,
     "end_time": "2022-10-03T16:01:40.439138",
     "exception": false,
     "start_time": "2022-10-03T16:01:39.841440",
     "status": "completed"
    },
    "tags": []
   },
   "outputs": [
    {
     "data": {
      "image/png": "[encoded data removed]",
      "text/plain": [
       "<Figure size 432x288 with 1 Axes>"
      ]
     },
     "metadata": {
      "needs_background": "light"
     },
     "output_type": "display_data"
    }
   ],
   "source": [
    "# Plot the the training loss\n",
    "plt.plot(results.history[\"loss\"], label=\"Train\")\n",
    "\n",
    "# Plot the the validation loss\n",
    "plt.plot(results.history[\"val_loss\"], label=\"Validation\")\n",
    "\n",
    "# Name the x and y axises\n",
    "plt.xlabel(\"Epoch\")\n",
    "plt.ylabel(\"Loss\")\n",
    "\n",
    "# Put legend table\n",
    "plt.legend()\n",
    "\n",
    "# Show the plot\n",
    "plt.show()"
   ]
  },
  {
   "cell_type": "markdown",
   "id": "8fc029f7",
   "metadata": {
    "id": "x4f-9V6pKHfE",
    "papermill": {
     "duration": 0.331227,
     "end_time": "2022-10-03T16:01:41.102733",
     "exception": false,
     "start_time": "2022-10-03T16:01:40.771506",
     "status": "completed"
    },
    "tags": []
   },
   "source": [
    "Now, do the same thing for accuracy.\n",
    "\n",
    "📌 Accuracy scores can be found in:\n",
    "* results.history[\"accuracy\"]\n",
    "* results.history[\"val_accuracy\"]\n",
    "\n"
   ]
  },
  {
   "cell_type": "code",
   "execution_count": 16,
   "id": "3a8b30e6",
   "metadata": {
    "execution": {
     "iopub.execute_input": "2022-10-03T16:01:41.826060Z",
     "iopub.status.busy": "2022-10-03T16:01:41.825131Z",
     "iopub.status.idle": "2022-10-03T16:01:42.046581Z",
     "shell.execute_reply": "2022-10-03T16:01:42.045712Z"
    },
    "id": "7LUeUQAn_CkD",
    "outputId": "fd27c19a-f092-4cef-fcdd-384e201f145d",
    "papermill": {
     "duration": 0.559221,
     "end_time": "2022-10-03T16:01:42.048721",
     "exception": false,
     "start_time": "2022-10-03T16:01:41.489500",
     "status": "completed"
    },
    "tags": []
   },
   "outputs": [
    {
     "data": {
      "image/png": "[encoded data removed]",
      "text/plain": [
       "<Figure size 432x288 with 1 Axes>"
      ]
     },
     "metadata": {
      "needs_background": "light"
     },
     "output_type": "display_data"
    }
   ],
   "source": [
    "# Plot the the training accuracy\n",
    "plt.plot(results.history[\"accuracy\"], label=\"Train\")\n",
    "\n",
    "# Plot the the validation accuracy\n",
    "plt.plot(results.history[\"val_accuracy\"], label=\"Validation\")\n",
    "\n",
    "# Name the x and y axises\n",
    "plt.xlabel(\"Epoch\")\n",
    "plt.ylabel(\"Accuracy\")\n",
    "\n",
    "# Put legend table\n",
    "plt.legend()\n",
    "\n",
    "# Show the plot\n",
    "plt.show()"
   ]
  },
  {
   "cell_type": "markdown",
   "id": "543a0cb4",
   "metadata": {
    "id": "xnz14s_zKSq8",
    "papermill": {
     "duration": 0.543451,
     "end_time": "2022-10-03T16:01:42.937573",
     "exception": false,
     "start_time": "2022-10-03T16:01:42.394122",
     "status": "completed"
    },
    "tags": []
   },
   "source": [
    "## 5. Performance evaluation\n",
    "\n",
    "Let's use the test dataset that we created to evaluate the performance of the model.\n",
    "\n",
    "📌 Use test_on_batch() method with test dataset as parameter."
   ]
  },
  {
   "cell_type": "code",
   "execution_count": 17,
   "id": "2279d249",
   "metadata": {
    "execution": {
     "iopub.execute_input": "2022-10-03T16:01:43.644034Z",
     "iopub.status.busy": "2022-10-03T16:01:43.643679Z",
     "iopub.status.idle": "2022-10-03T16:01:48.137680Z",
     "shell.execute_reply": "2022-10-03T16:01:48.136807Z"
    },
    "id": "grHvXCZY_JVT",
    "outputId": "6361e687-d8d6-4851-e58d-d1bd05fe3098",
    "papermill": {
     "duration": 4.829257,
     "end_time": "2022-10-03T16:01:48.139755",
     "exception": false,
     "start_time": "2022-10-03T16:01:43.310498",
     "status": "completed"
    },
    "tags": []
   },
   "outputs": [
    {
     "name": "stdout",
     "output_type": "stream",
     "text": [
      "157/157 [==============================] - 4s 28ms/step - loss: 0.2377 - accuracy: 0.9014\n"
     ]
    },
    {
     "data": {
      "text/plain": [
       "[0.2376963198184967, 0.9014000296592712]"
      ]
     },
     "execution_count": 17,
     "metadata": {},
     "output_type": "execute_result"
    }
   ],
   "source": [
    "# Evaluate the performance\n",
    "model.evaluate(X_test, y_test)  # first output is loss, second one is accuracy"
   ]
  },
  {
   "cell_type": "code",
   "execution_count": 18,
   "id": "a8178327",
   "metadata": {
    "execution": {
     "iopub.execute_input": "2022-10-03T16:01:48.813359Z",
     "iopub.status.busy": "2022-10-03T16:01:48.812977Z",
     "iopub.status.idle": "2022-10-03T16:01:53.095558Z",
     "shell.execute_reply": "2022-10-03T16:01:53.094595Z"
    },
    "papermill": {
     "duration": 4.622056,
     "end_time": "2022-10-03T16:01:53.097563",
     "exception": false,
     "start_time": "2022-10-03T16:01:48.475507",
     "status": "completed"
    },
    "tags": []
   },
   "outputs": [
    {
     "name": "stdout",
     "output_type": "stream",
     "text": [
      "Loss: 0.2376963198184967\n",
      "Accuracy: 0.9014000296592712\n"
     ]
    }
   ],
   "source": [
    "# verbose=False to hide the process like above\n",
    "loss, acc = model.evaluate(X_test, y_test, verbose=False)\n",
    "print(f\"Loss: {loss}\")\n",
    "print(f\"Accuracy: {acc}\")"
   ]
  },
  {
   "cell_type": "markdown",
   "id": "6dfcdfa4",
   "metadata": {
    "id": "MOJH4551KWWe",
    "papermill": {
     "duration": 0.514874,
     "end_time": "2022-10-03T16:01:54.027494",
     "exception": false,
     "start_time": "2022-10-03T16:01:53.512620",
     "status": "completed"
    },
    "tags": []
   },
   "source": [
    "### Try a prediction\n",
    "\n",
    "Next, we take a sample and make a prediction on it.\n",
    "\n",
    "📌 Reshape the review to (1, 1024).\n",
    "\n",
    "📌 Use the .prediction() method of the model object."
   ]
  },
  {
   "cell_type": "code",
   "execution_count": 19,
   "id": "bcbfdd08",
   "metadata": {
    "execution": {
     "iopub.execute_input": "2022-10-03T16:01:54.702830Z",
     "iopub.status.busy": "2022-10-03T16:01:54.702474Z",
     "iopub.status.idle": "2022-10-03T16:01:55.074423Z",
     "shell.execute_reply": "2022-10-03T16:01:55.073438Z"
    },
    "id": "vda8VhZh_LiK",
    "papermill": {
     "duration": 0.712856,
     "end_time": "2022-10-03T16:01:55.076798",
     "exception": false,
     "start_time": "2022-10-03T16:01:54.363942",
     "status": "completed"
    },
    "tags": []
   },
   "outputs": [],
   "source": [
    "# Make prediction on the reshaped sample\n",
    "prediction_result = model.predict(X_test[789].reshape(1,1024))  # (1,1024) => 1 resim var ve her gönderiyi 1024'e paddledik"
   ]
  },
  {
   "cell_type": "code",
   "execution_count": 20,
   "id": "d15c124d",
   "metadata": {
    "execution": {
     "iopub.execute_input": "2022-10-03T16:01:55.797005Z",
     "iopub.status.busy": "2022-10-03T16:01:55.796066Z",
     "iopub.status.idle": "2022-10-03T16:01:55.802038Z",
     "shell.execute_reply": "2022-10-03T16:01:55.800968Z"
    },
    "id": "nmmMAorEvXkj",
    "outputId": "7c3743c7-5af3-476c-d756-8ef7f47dba2b",
    "papermill": {
     "duration": 0.390785,
     "end_time": "2022-10-03T16:01:55.805620",
     "exception": false,
     "start_time": "2022-10-03T16:01:55.414835",
     "status": "completed"
    },
    "tags": []
   },
   "outputs": [
    {
     "name": "stdout",
     "output_type": "stream",
     "text": [
      "Label: 0 | Prediction: [[0.06901043]]\n"
     ]
    }
   ],
   "source": [
    "print(f\"Label: {y_test[789]} | Prediction: {prediction_result}\")"
   ]
  },
  {
   "cell_type": "markdown",
   "id": "4ed9871f",
   "metadata": {
    "id": "nOKjut9jwV3x",
    "papermill": {
     "duration": 0.334957,
     "end_time": "2022-10-03T16:01:56.493623",
     "exception": false,
     "start_time": "2022-10-03T16:01:56.158666",
     "status": "completed"
    },
    "tags": []
   },
   "source": [
    "If Output > 0.5 => prediction is 1\n",
    "\n",
    "If Output < 0.5 => predictionis  0\n",
    "\n",
    "Here, our output is less than 0.5, therefore, the model actually predicted 0, so the model prediction is correct.\n",
    "\n",
    "**If we want to code this operation:**"
   ]
  },
  {
   "cell_type": "code",
   "execution_count": 21,
   "id": "0843efce",
   "metadata": {
    "execution": {
     "iopub.execute_input": "2022-10-03T16:01:57.176287Z",
     "iopub.status.busy": "2022-10-03T16:01:57.175910Z",
     "iopub.status.idle": "2022-10-03T16:01:57.181021Z",
     "shell.execute_reply": "2022-10-03T16:01:57.180046Z"
    },
    "id": "kFntjT0xvhnU",
    "papermill": {
     "duration": 0.346782,
     "end_time": "2022-10-03T16:01:57.183027",
     "exception": false,
     "start_time": "2022-10-03T16:01:56.836245",
     "status": "completed"
    },
    "tags": []
   },
   "outputs": [],
   "source": [
    "def pred(prediction_result):\n",
    "    if prediction_result < 0.5:\n",
    "        print(\"Prediction: 0\")\n",
    "    else:\n",
    "        print(\"Prediction: 1\")"
   ]
  },
  {
   "cell_type": "code",
   "execution_count": 22,
   "id": "4f872f5e",
   "metadata": {
    "execution": {
     "iopub.execute_input": "2022-10-03T16:01:57.896724Z",
     "iopub.status.busy": "2022-10-03T16:01:57.895703Z",
     "iopub.status.idle": "2022-10-03T16:01:57.902183Z",
     "shell.execute_reply": "2022-10-03T16:01:57.900855Z"
    },
    "papermill": {
     "duration": 0.343566,
     "end_time": "2022-10-03T16:01:57.904103",
     "exception": false,
     "start_time": "2022-10-03T16:01:57.560537",
     "status": "completed"
    },
    "tags": []
   },
   "outputs": [
    {
     "name": "stdout",
     "output_type": "stream",
     "text": [
      "Prediction: 0\n"
     ]
    }
   ],
   "source": [
    "pred(prediction_result)"
   ]
  },
  {
   "cell_type": "code",
   "execution_count": null,
   "id": "7ecac763",
   "metadata": {
    "papermill": {
     "duration": 0.381296,
     "end_time": "2022-10-03T16:01:58.619981",
     "exception": false,
     "start_time": "2022-10-03T16:01:58.238685",
     "status": "completed"
    },
    "tags": []
   },
   "outputs": [],
   "source": []
  }
 ],
 "metadata": {
  "kernelspec": {
   "display_name": "Python 3",
   "language": "python",
   "name": "python3"
  },
  "language_info": {
   "codemirror_mode": {
    "name": "ipython",
    "version": 3
   },
   "file_extension": ".py",
   "mimetype": "text/x-python",
   "name": "python",
   "nbconvert_exporter": "python",
   "pygments_lexer": "ipython3",
   "version": "3.7.12"
  },
  "papermill": {
   "default_parameters": {},
   "duration": 569.704464,
   "end_time": "2022-10-03T16:02:02.161953",
   "environment_variables": {},
   "exception": null,
   "input_path": "__notebook__.ipynb",
   "output_path": "__notebook__.ipynb",
   "parameters": {},
   "start_time": "2022-10-03T15:52:32.457489",
   "version": "2.3.4"
  }
 },
 "nbformat": 4,
 "nbformat_minor": 5
}
